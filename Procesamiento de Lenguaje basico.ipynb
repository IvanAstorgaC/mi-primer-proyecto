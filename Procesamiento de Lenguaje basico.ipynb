{
 "cells": [
  {
   "cell_type": "code",
   "execution_count": 1,
   "id": "4536f16d",
   "metadata": {},
   "outputs": [
    {
     "name": "stdout",
     "output_type": "stream",
     "text": [
      "Requirement already satisfied: scipy in c:\\users\\iaace\\anaconda3\\lib\\site-packages (1.7.1)\n",
      "Requirement already satisfied: numpy<1.23.0,>=1.16.5 in c:\\users\\iaace\\anaconda3\\lib\\site-packages (from scipy) (1.20.3)\n",
      "Requirement already satisfied: unidecode in c:\\users\\iaace\\anaconda3\\lib\\site-packages (1.2.0)\n"
     ]
    }
   ],
   "source": [
    "import string\n",
    "!pip install scipy\n",
    "!pip install unidecode"
   ]
  },
  {
   "cell_type": "code",
   "execution_count": 2,
   "id": "f1e6f3a9",
   "metadata": {},
   "outputs": [],
   "source": [
    "import numpy as np\n",
    "import pandas as pd\n",
    "import seaborn as sns\n",
    "import matplotlib.pyplot as plt\n",
    "import nltk\n",
    "from nltk.corpus import stopwords\n",
    "from unidecode import unidecode\n"
   ]
  },
  {
   "cell_type": "code",
   "execution_count": 3,
   "id": "21bf0e76",
   "metadata": {},
   "outputs": [
    {
     "name": "stderr",
     "output_type": "stream",
     "text": [
      "[nltk_data] Downloading package stopwords to\n",
      "[nltk_data]     C:\\Users\\iaace\\AppData\\Roaming\\nltk_data...\n",
      "[nltk_data]   Package stopwords is already up-to-date!\n"
     ]
    },
    {
     "data": {
      "text/plain": [
       "True"
      ]
     },
     "execution_count": 3,
     "metadata": {},
     "output_type": "execute_result"
    }
   ],
   "source": [
    "#descargamos info para el preprocesado\n",
    "nltk.download('stopwords')"
   ]
  },
  {
   "cell_type": "code",
   "execution_count": 4,
   "id": "767fd334",
   "metadata": {},
   "outputs": [
    {
     "data": {
      "text/html": [
       "<div>\n",
       "<style scoped>\n",
       "    .dataframe tbody tr th:only-of-type {\n",
       "        vertical-align: middle;\n",
       "    }\n",
       "\n",
       "    .dataframe tbody tr th {\n",
       "        vertical-align: top;\n",
       "    }\n",
       "\n",
       "    .dataframe thead th {\n",
       "        text-align: right;\n",
       "    }\n",
       "</style>\n",
       "<table border=\"1\" class=\"dataframe\">\n",
       "  <thead>\n",
       "    <tr style=\"text-align: right;\">\n",
       "      <th></th>\n",
       "      <th>Unnamed: 0</th>\n",
       "      <th>speaker</th>\n",
       "      <th>dialog</th>\n",
       "      <th>length</th>\n",
       "    </tr>\n",
       "  </thead>\n",
       "  <tbody>\n",
       "    <tr>\n",
       "      <th>0</th>\n",
       "      <td>0</td>\n",
       "      <td>amlo</td>\n",
       "      <td>Amigas, amigos, paisanas, paisanos de Palenque:</td>\n",
       "      <td>47</td>\n",
       "    </tr>\n",
       "    <tr>\n",
       "      <th>1</th>\n",
       "      <td>1</td>\n",
       "      <td>amlo</td>\n",
       "      <td>Me da mucho gusto estar de nuevo en trabajos d...</td>\n",
       "      <td>91</td>\n",
       "    </tr>\n",
       "    <tr>\n",
       "      <th>2</th>\n",
       "      <td>2</td>\n",
       "      <td>amlo</td>\n",
       "      <td>Antes de entrar en materia, quiero enviar un s...</td>\n",
       "      <td>471</td>\n",
       "    </tr>\n",
       "    <tr>\n",
       "      <th>3</th>\n",
       "      <td>3</td>\n",
       "      <td>amlo</td>\n",
       "      <td>Di la instrucción de que se mantengan trabajan...</td>\n",
       "      <td>338</td>\n",
       "    </tr>\n",
       "    <tr>\n",
       "      <th>4</th>\n",
       "      <td>4</td>\n",
       "      <td>amlo</td>\n",
       "      <td>Quiero decirles a mis paisanos que padecen, qu...</td>\n",
       "      <td>113</td>\n",
       "    </tr>\n",
       "    <tr>\n",
       "      <th>...</th>\n",
       "      <td>...</td>\n",
       "      <td>...</td>\n",
       "      <td>...</td>\n",
       "      <td>...</td>\n",
       "    </tr>\n",
       "    <tr>\n",
       "      <th>155502</th>\n",
       "      <td>155502</td>\n",
       "      <td>amlo</td>\n",
       "      <td>¡Que viva Francisco I. Madero!</td>\n",
       "      <td>30</td>\n",
       "    </tr>\n",
       "    <tr>\n",
       "      <th>155503</th>\n",
       "      <td>155503</td>\n",
       "      <td>amlo</td>\n",
       "      <td>¡Que viva Venustiano Carranza!</td>\n",
       "      <td>30</td>\n",
       "    </tr>\n",
       "    <tr>\n",
       "      <th>155504</th>\n",
       "      <td>155504</td>\n",
       "      <td>amlo</td>\n",
       "      <td>¡Viva México!</td>\n",
       "      <td>13</td>\n",
       "    </tr>\n",
       "    <tr>\n",
       "      <th>155505</th>\n",
       "      <td>155505</td>\n",
       "      <td>amlo</td>\n",
       "      <td>¡Viva México!</td>\n",
       "      <td>13</td>\n",
       "    </tr>\n",
       "    <tr>\n",
       "      <th>155506</th>\n",
       "      <td>155506</td>\n",
       "      <td>amlo</td>\n",
       "      <td>¡Viva México!</td>\n",
       "      <td>13</td>\n",
       "    </tr>\n",
       "  </tbody>\n",
       "</table>\n",
       "<p>155507 rows × 4 columns</p>\n",
       "</div>"
      ],
      "text/plain": [
       "        Unnamed: 0 speaker                                             dialog  \\\n",
       "0                0    amlo    Amigas, amigos, paisanas, paisanos de Palenque:   \n",
       "1                1    amlo  Me da mucho gusto estar de nuevo en trabajos d...   \n",
       "2                2    amlo  Antes de entrar en materia, quiero enviar un s...   \n",
       "3                3    amlo  Di la instrucción de que se mantengan trabajan...   \n",
       "4                4    amlo  Quiero decirles a mis paisanos que padecen, qu...   \n",
       "...            ...     ...                                                ...   \n",
       "155502      155502    amlo                     ¡Que viva Francisco I. Madero!   \n",
       "155503      155503    amlo                     ¡Que viva Venustiano Carranza!   \n",
       "155504      155504    amlo                                      ¡Viva México!   \n",
       "155505      155505    amlo                                      ¡Viva México!   \n",
       "155506      155506    amlo                                      ¡Viva México!   \n",
       "\n",
       "        length  \n",
       "0           47  \n",
       "1           91  \n",
       "2          471  \n",
       "3          338  \n",
       "4          113  \n",
       "...        ...  \n",
       "155502      30  \n",
       "155503      30  \n",
       "155504      13  \n",
       "155505      13  \n",
       "155506      13  \n",
       "\n",
       "[155507 rows x 4 columns]"
      ]
     },
     "execution_count": 4,
     "metadata": {},
     "output_type": "execute_result"
    }
   ],
   "source": [
    "pd.read_csv('dialogos.csv')"
   ]
  },
  {
   "cell_type": "code",
   "execution_count": 5,
   "id": "c68b7389",
   "metadata": {},
   "outputs": [
    {
     "data": {
      "text/html": [
       "<div>\n",
       "<style scoped>\n",
       "    .dataframe tbody tr th:only-of-type {\n",
       "        vertical-align: middle;\n",
       "    }\n",
       "\n",
       "    .dataframe tbody tr th {\n",
       "        vertical-align: top;\n",
       "    }\n",
       "\n",
       "    .dataframe thead th {\n",
       "        text-align: right;\n",
       "    }\n",
       "</style>\n",
       "<table border=\"1\" class=\"dataframe\">\n",
       "  <thead>\n",
       "    <tr style=\"text-align: right;\">\n",
       "      <th></th>\n",
       "      <th>speaker</th>\n",
       "      <th>dialog</th>\n",
       "      <th>length</th>\n",
       "    </tr>\n",
       "  </thead>\n",
       "  <tbody>\n",
       "    <tr>\n",
       "      <th>0</th>\n",
       "      <td>politico</td>\n",
       "      <td>Amigas, amigos, paisanas, paisanos de Palenque:</td>\n",
       "      <td>47</td>\n",
       "    </tr>\n",
       "    <tr>\n",
       "      <th>1</th>\n",
       "      <td>politico</td>\n",
       "      <td>Me da mucho gusto estar de nuevo en trabajos d...</td>\n",
       "      <td>91</td>\n",
       "    </tr>\n",
       "    <tr>\n",
       "      <th>2</th>\n",
       "      <td>politico</td>\n",
       "      <td>Antes de entrar en materia, quiero enviar un s...</td>\n",
       "      <td>471</td>\n",
       "    </tr>\n",
       "    <tr>\n",
       "      <th>3</th>\n",
       "      <td>politico</td>\n",
       "      <td>Di la instrucción de que se mantengan trabajan...</td>\n",
       "      <td>338</td>\n",
       "    </tr>\n",
       "    <tr>\n",
       "      <th>4</th>\n",
       "      <td>politico</td>\n",
       "      <td>Quiero decirles a mis paisanos que padecen, qu...</td>\n",
       "      <td>113</td>\n",
       "    </tr>\n",
       "    <tr>\n",
       "      <th>...</th>\n",
       "      <td>...</td>\n",
       "      <td>...</td>\n",
       "      <td>...</td>\n",
       "    </tr>\n",
       "    <tr>\n",
       "      <th>155502</th>\n",
       "      <td>politico</td>\n",
       "      <td>¡Que viva Francisco I. Madero!</td>\n",
       "      <td>30</td>\n",
       "    </tr>\n",
       "    <tr>\n",
       "      <th>155503</th>\n",
       "      <td>politico</td>\n",
       "      <td>¡Que viva Venustiano Carranza!</td>\n",
       "      <td>30</td>\n",
       "    </tr>\n",
       "    <tr>\n",
       "      <th>155504</th>\n",
       "      <td>politico</td>\n",
       "      <td>¡Viva México!</td>\n",
       "      <td>13</td>\n",
       "    </tr>\n",
       "    <tr>\n",
       "      <th>155505</th>\n",
       "      <td>politico</td>\n",
       "      <td>¡Viva México!</td>\n",
       "      <td>13</td>\n",
       "    </tr>\n",
       "    <tr>\n",
       "      <th>155506</th>\n",
       "      <td>politico</td>\n",
       "      <td>¡Viva México!</td>\n",
       "      <td>13</td>\n",
       "    </tr>\n",
       "  </tbody>\n",
       "</table>\n",
       "<p>155507 rows × 3 columns</p>\n",
       "</div>"
      ],
      "text/plain": [
       "         speaker                                             dialog  length\n",
       "0       politico    Amigas, amigos, paisanas, paisanos de Palenque:      47\n",
       "1       politico  Me da mucho gusto estar de nuevo en trabajos d...      91\n",
       "2       politico  Antes de entrar en materia, quiero enviar un s...     471\n",
       "3       politico  Di la instrucción de que se mantengan trabajan...     338\n",
       "4       politico  Quiero decirles a mis paisanos que padecen, qu...     113\n",
       "...          ...                                                ...     ...\n",
       "155502  politico                     ¡Que viva Francisco I. Madero!      30\n",
       "155503  politico                     ¡Que viva Venustiano Carranza!      30\n",
       "155504  politico                                      ¡Viva México!      13\n",
       "155505  politico                                      ¡Viva México!      13\n",
       "155506  politico                                      ¡Viva México!      13\n",
       "\n",
       "[155507 rows x 3 columns]"
      ]
     },
     "execution_count": 5,
     "metadata": {},
     "output_type": "execute_result"
    }
   ],
   "source": [
    "dialogs= pd.read_csv('dialogos.csv',index_col=0)\n",
    "dialogs['speaker']= np.where(dialogs['speaker']=='amlo','politico','medico')\n",
    "dialogs"
   ]
  },
  {
   "cell_type": "code",
   "execution_count": 6,
   "id": "693d0846",
   "metadata": {},
   "outputs": [
    {
     "data": {
      "text/html": [
       "<div>\n",
       "<style scoped>\n",
       "    .dataframe tbody tr th:only-of-type {\n",
       "        vertical-align: middle;\n",
       "    }\n",
       "\n",
       "    .dataframe tbody tr th {\n",
       "        vertical-align: top;\n",
       "    }\n",
       "\n",
       "    .dataframe thead th {\n",
       "        text-align: right;\n",
       "    }\n",
       "</style>\n",
       "<table border=\"1\" class=\"dataframe\">\n",
       "  <thead>\n",
       "    <tr style=\"text-align: right;\">\n",
       "      <th></th>\n",
       "      <th>speaker</th>\n",
       "      <th>dialog</th>\n",
       "      <th>length</th>\n",
       "    </tr>\n",
       "  </thead>\n",
       "  <tbody>\n",
       "    <tr>\n",
       "      <th>116102</th>\n",
       "      <td>politico</td>\n",
       "      <td>El presidente Peña, también. Querían los franc...</td>\n",
       "      <td>274</td>\n",
       "    </tr>\n",
       "    <tr>\n",
       "      <th>46246</th>\n",
       "      <td>medico</td>\n",
       "      <td>Eso es lo que estamos haciendo, es lo que segu...</td>\n",
       "      <td>326</td>\n",
       "    </tr>\n",
       "    <tr>\n",
       "      <th>17300</th>\n",
       "      <td>politico</td>\n",
       "      <td>Buenos días.</td>\n",
       "      <td>12</td>\n",
       "    </tr>\n",
       "    <tr>\n",
       "      <th>17434</th>\n",
       "      <td>politico</td>\n",
       "      <td>Hay en México, como nunca, un combate permanen...</td>\n",
       "      <td>211</td>\n",
       "    </tr>\n",
       "    <tr>\n",
       "      <th>70656</th>\n",
       "      <td>politico</td>\n",
       "      <td>Ya no hay pensión para los expresidentes. En t...</td>\n",
       "      <td>267</td>\n",
       "    </tr>\n",
       "    <tr>\n",
       "      <th>...</th>\n",
       "      <td>...</td>\n",
       "      <td>...</td>\n",
       "      <td>...</td>\n",
       "    </tr>\n",
       "    <tr>\n",
       "      <th>154236</th>\n",
       "      <td>politico</td>\n",
       "      <td>Y que actuemos con igualdad, nada de influyent...</td>\n",
       "      <td>442</td>\n",
       "    </tr>\n",
       "    <tr>\n",
       "      <th>112980</th>\n",
       "      <td>politico</td>\n",
       "      <td>Y ya le envié la carta al presidente Biden sob...</td>\n",
       "      <td>171</td>\n",
       "    </tr>\n",
       "    <tr>\n",
       "      <th>38872</th>\n",
       "      <td>medico</td>\n",
       "      <td>Se analizaron los pormenores de los costos, la...</td>\n",
       "      <td>374</td>\n",
       "    </tr>\n",
       "    <tr>\n",
       "      <th>140237</th>\n",
       "      <td>politico</td>\n",
       "      <td>Cuatro mil 259 estudiantes de bachillerato tam...</td>\n",
       "      <td>64</td>\n",
       "    </tr>\n",
       "    <tr>\n",
       "      <th>30142</th>\n",
       "      <td>politico</td>\n",
       "      <td>Sí y siempre y cuando también no haya corrupci...</td>\n",
       "      <td>169</td>\n",
       "    </tr>\n",
       "  </tbody>\n",
       "</table>\n",
       "<p>100 rows × 3 columns</p>\n",
       "</div>"
      ],
      "text/plain": [
       "         speaker                                             dialog  length\n",
       "116102  politico  El presidente Peña, también. Querían los franc...     274\n",
       "46246     medico  Eso es lo que estamos haciendo, es lo que segu...     326\n",
       "17300   politico                                       Buenos días.      12\n",
       "17434   politico  Hay en México, como nunca, un combate permanen...     211\n",
       "70656   politico  Ya no hay pensión para los expresidentes. En t...     267\n",
       "...          ...                                                ...     ...\n",
       "154236  politico  Y que actuemos con igualdad, nada de influyent...     442\n",
       "112980  politico  Y ya le envié la carta al presidente Biden sob...     171\n",
       "38872     medico  Se analizaron los pormenores de los costos, la...     374\n",
       "140237  politico  Cuatro mil 259 estudiantes de bachillerato tam...      64\n",
       "30142   politico  Sí y siempre y cuando también no haya corrupci...     169\n",
       "\n",
       "[100 rows x 3 columns]"
      ]
     },
     "execution_count": 6,
     "metadata": {},
     "output_type": "execute_result"
    }
   ],
   "source": [
    "dialogs.sample(100)"
   ]
  },
  {
   "cell_type": "markdown",
   "id": "d47e0be7",
   "metadata": {},
   "source": [
    "necesitamos diferenciar entre politico, es decir es clasificacion binaria"
   ]
  },
  {
   "cell_type": "code",
   "execution_count": 7,
   "id": "1125a8f6",
   "metadata": {},
   "outputs": [],
   "source": [
    "## usaremos como metrica accuracy"
   ]
  },
  {
   "cell_type": "code",
   "execution_count": 8,
   "id": "3b32c8f9",
   "metadata": {},
   "outputs": [
    {
     "data": {
      "text/plain": [
       "{'politico': 0.7332081514015446, 'medico': 0.2667918485984554}"
      ]
     },
     "execution_count": 8,
     "metadata": {},
     "output_type": "execute_result"
    },
    {
     "data": {
      "image/png": "[encoded data removed]",
      "text/plain": [
       "<Figure size 600x400 with 1 Axes>"
      ]
     },
     "metadata": {
      "needs_background": "light"
     },
     "output_type": "display_data"
    }
   ],
   "source": [
    "fig=plt.figure(dpi=100)\n",
    "ax=fig.gca()\n",
    "sns.countplot(x='speaker',data=dialogs,ax=ax)\n",
    "ax.set_title('Grafico de porcentajes')\n",
    "ax.set_xlabel('X')\n",
    "ax.set_ylabel('y')\n",
    "percentages= (dialogs['speaker'].value_counts()/len(dialogs)).to_dict()\n",
    "percentages"
   ]
  },
  {
   "cell_type": "code",
   "execution_count": 9,
   "id": "a29d8462",
   "metadata": {},
   "outputs": [
    {
     "data": {
      "text/plain": [
       "<AxesSubplot:xlabel='length', ylabel='speaker'>"
      ]
     },
     "execution_count": 9,
     "metadata": {},
     "output_type": "execute_result"
    },
    {
     "data": {
      "image/png": "[encoded data removed]",
      "text/plain": [
       "<Figure size 1000x500 with 2 Axes>"
      ]
     },
     "metadata": {
      "needs_background": "light"
     },
     "output_type": "display_data"
    }
   ],
   "source": [
    "fig,(ax1,ax2)=plt.subplots(2,1,dpi=100,figsize=(10,5))\n",
    "sns.violinplot(y='speaker',x='length',data=dialogs,ax=ax1) #todo esto debe ir la misma linea de codigo\n",
    "sns.boxplot(y='speaker',x='length',data=dialogs,ax=ax2)"
   ]
  },
  {
   "cell_type": "code",
   "execution_count": 58,
   "id": "4a108f6b",
   "metadata": {},
   "outputs": [
    {
     "data": {
      "text/plain": [
       "<matplotlib.legend.Legend at 0x2300b981310>"
      ]
     },
     "execution_count": 58,
     "metadata": {},
     "output_type": "execute_result"
    },
    {
     "data": {
      "image/png": "[encoded data removed]",
      "text/plain": [
       "<Figure size 1200x300 with 1 Axes>"
      ]
     },
     "metadata": {
      "needs_background": "light"
     },
     "output_type": "display_data"
    }
   ],
   "source": [
    "lengths = dialogs[\"dialog\"].str.len()\n",
    "\n",
    "dialog_lenghts = pd.DataFrame({\n",
    "    \"speaker\": dialogs[\"speaker\"],\n",
    "    \"length\": lengths\n",
    "})\n",
    "\n",
    "fig = plt.figure(dpi=100, figsize=(12, 3))\n",
    "ax = fig.gca()\n",
    "for label, color in [(\"politico\", \"yellow\"), (\"medico\", \"blue\")]:\n",
    "    lengths = dialog_lenghts[dialog_lenghts[\"speaker\"] == label]\n",
    "    values, bins = np.histogram(lengths[\"length\"], range=(0, 1200), bins=50)\n",
    "    y = (bins[1:] + bins[:-1]) / 2\n",
    "    sns.barplot(x=y, y=values/ len(lengths), label=label, color= color, ax=ax, alpha=0.5 )\n",
    "ax.set_xticklabels([f\"{int(_y)}-{int(_x)}\" for _x,_y in zip(bins[1:], bins[:-1])], rotation=90, fontsize=9)\n",
    "ax.set_yticklabels([])\n",
    "ax.set_xlabel(\"Rango\")\n",
    "ax.legend()"
   ]
  },
  {
   "cell_type": "code",
   "execution_count": null,
   "id": "b9cccb05",
   "metadata": {},
   "outputs": [],
   "source": [
    "# dividiremos nuestro data set"
   ]
  },
  {
   "cell_type": "code",
   "execution_count": 11,
   "id": "e50c033f",
   "metadata": {},
   "outputs": [],
   "source": [
    "from sklearn.model_selection import train_test_split"
   ]
  },
  {
   "cell_type": "code",
   "execution_count": 61,
   "id": "f65603d5",
   "metadata": {},
   "outputs": [
    {
     "data": {
      "text/plain": [
       "155507"
      ]
     },
     "execution_count": 61,
     "metadata": {},
     "output_type": "execute_result"
    }
   ],
   "source": [
    "rest,test=train_test_split(dialogs,test_size=0.2,stratify=dialogs['speaker'],random_state=40)\n"
   ]
  },
  {
   "cell_type": "code",
   "execution_count": 25,
   "id": "5c7a8220",
   "metadata": {},
   "outputs": [
    {
     "data": {
      "text/html": [
       "<div>\n",
       "<style scoped>\n",
       "    .dataframe tbody tr th:only-of-type {\n",
       "        vertical-align: middle;\n",
       "    }\n",
       "\n",
       "    .dataframe tbody tr th {\n",
       "        vertical-align: top;\n",
       "    }\n",
       "\n",
       "    .dataframe thead th {\n",
       "        text-align: right;\n",
       "    }\n",
       "</style>\n",
       "<table border=\"1\" class=\"dataframe\">\n",
       "  <thead>\n",
       "    <tr style=\"text-align: right;\">\n",
       "      <th></th>\n",
       "      <th>speaker</th>\n",
       "      <th>dialog</th>\n",
       "      <th>length</th>\n",
       "    </tr>\n",
       "  </thead>\n",
       "  <tbody>\n",
       "    <tr>\n",
       "      <th>4007</th>\n",
       "      <td>medico</td>\n",
       "      <td>Necesariamente el que produce el producto, el ...</td>\n",
       "      <td>234</td>\n",
       "    </tr>\n",
       "    <tr>\n",
       "      <th>109869</th>\n",
       "      <td>politico</td>\n",
       "      <td>Entonces, dijimos: Primero los que están atend...</td>\n",
       "      <td>163</td>\n",
       "    </tr>\n",
       "    <tr>\n",
       "      <th>96162</th>\n",
       "      <td>politico</td>\n",
       "      <td>En el caso de la petroquímica estamos buscando...</td>\n",
       "      <td>257</td>\n",
       "    </tr>\n",
       "    <tr>\n",
       "      <th>34431</th>\n",
       "      <td>medico</td>\n",
       "      <td>Tu pregunta es muy importante, porque tu pregu...</td>\n",
       "      <td>287</td>\n",
       "    </tr>\n",
       "    <tr>\n",
       "      <th>130735</th>\n",
       "      <td>medico</td>\n",
       "      <td>En México, aunque tiene subidas y bajadas dos ...</td>\n",
       "      <td>431</td>\n",
       "    </tr>\n",
       "    <tr>\n",
       "      <th>...</th>\n",
       "      <td>...</td>\n",
       "      <td>...</td>\n",
       "      <td>...</td>\n",
       "    </tr>\n",
       "    <tr>\n",
       "      <th>54168</th>\n",
       "      <td>medico</td>\n",
       "      <td>Es más elaborado de reducirlo a fase uno, fase...</td>\n",
       "      <td>190</td>\n",
       "    </tr>\n",
       "    <tr>\n",
       "      <th>115231</th>\n",
       "      <td>politico</td>\n",
       "      <td>Puede ser que a los de arriba no les parezca, ...</td>\n",
       "      <td>221</td>\n",
       "    </tr>\n",
       "    <tr>\n",
       "      <th>56920</th>\n",
       "      <td>politico</td>\n",
       "      <td>Me da mucho gusto estar de nuevo en este munic...</td>\n",
       "      <td>338</td>\n",
       "    </tr>\n",
       "    <tr>\n",
       "      <th>31379</th>\n",
       "      <td>medico</td>\n",
       "      <td>Las medidas de prevención en general son las m...</td>\n",
       "      <td>576</td>\n",
       "    </tr>\n",
       "    <tr>\n",
       "      <th>30994</th>\n",
       "      <td>politico</td>\n",
       "      <td>Ya saben ustedes cómo se exagera a veces sin c...</td>\n",
       "      <td>402</td>\n",
       "    </tr>\n",
       "  </tbody>\n",
       "</table>\n",
       "<p>24881 rows × 3 columns</p>\n",
       "</div>"
      ],
      "text/plain": [
       "         speaker                                             dialog  length\n",
       "4007      medico  Necesariamente el que produce el producto, el ...     234\n",
       "109869  politico  Entonces, dijimos: Primero los que están atend...     163\n",
       "96162   politico  En el caso de la petroquímica estamos buscando...     257\n",
       "34431     medico  Tu pregunta es muy importante, porque tu pregu...     287\n",
       "130735    medico  En México, aunque tiene subidas y bajadas dos ...     431\n",
       "...          ...                                                ...     ...\n",
       "54168     medico  Es más elaborado de reducirlo a fase uno, fase...     190\n",
       "115231  politico  Puede ser que a los de arriba no les parezca, ...     221\n",
       "56920   politico  Me da mucho gusto estar de nuevo en este munic...     338\n",
       "31379     medico  Las medidas de prevención en general son las m...     576\n",
       "30994   politico  Ya saben ustedes cómo se exagera a veces sin c...     402\n",
       "\n",
       "[24881 rows x 3 columns]"
      ]
     },
     "execution_count": 25,
     "metadata": {},
     "output_type": "execute_result"
    }
   ],
   "source": [
    "train, val=train_test_split(rest,test_size=0.2,stratify=rest['speaker'])\n",
    "val"
   ]
  },
  {
   "cell_type": "code",
   "execution_count": 26,
   "id": "a6258cb8",
   "metadata": {},
   "outputs": [
    {
     "data": {
      "text/plain": [
       "(99524, 24881, 124405, 31102)"
      ]
     },
     "execution_count": 26,
     "metadata": {},
     "output_type": "execute_result"
    }
   ],
   "source": [
    "len(train), len(val), len(test)"
   ]
  },
  {
   "cell_type": "code",
   "execution_count": 63,
   "id": "29b4b872",
   "metadata": {},
   "outputs": [
    {
     "data": {
      "text/plain": [
       "132161    politico\n",
       "506       politico\n",
       "39688     politico\n",
       "96352     politico\n",
       "147257      medico\n",
       "            ...   \n",
       "57591     politico\n",
       "30249       medico\n",
       "88639     politico\n",
       "17451       medico\n",
       "48432     politico\n",
       "Name: speaker, Length: 99524, dtype: object"
      ]
     },
     "execution_count": 63,
     "metadata": {},
     "output_type": "execute_result"
    }
   ],
   "source": [
    "dialogs_train = train[\"dialog\"]\n",
    "dialogs_val = val[\"dialog\"]\n",
    "dialogs_test = test[\"dialog\"]\n",
    "\n",
    "target_train = train[\"speaker\"]\n",
    "target_val = val[\"speaker\"]\n",
    "target_test = test[\"speaker\"]\n",
    "\n",
    "dialogs_train\n",
    "target_train"
   ]
  },
  {
   "cell_type": "code",
   "execution_count": 29,
   "id": "784b587c",
   "metadata": {},
   "outputs": [],
   "source": [
    "#ahora haremos featuring engineering"
   ]
  },
  {
   "cell_type": "code",
   "execution_count": 30,
   "id": "d3c88eae",
   "metadata": {},
   "outputs": [],
   "source": [
    "#transformamos las etiqueta en numeros"
   ]
  },
  {
   "cell_type": "code",
   "execution_count": 33,
   "id": "8041254d",
   "metadata": {},
   "outputs": [
    {
     "data": {
      "text/plain": [
       "array([1, 1, 1, ..., 1, 0, 1])"
      ]
     },
     "execution_count": 33,
     "metadata": {},
     "output_type": "execute_result"
    }
   ],
   "source": [
    "train_y = np.where(target_train == \"politico\", 1, 0)\n",
    "val_y = np.where(target_val == \"politico\", 1, 0)\n",
    "test_y = np.where(target_test == \"politico\", 1, 0)\n"
   ]
  },
  {
   "cell_type": "markdown",
   "id": "1c16f001",
   "metadata": {},
   "source": [
    "\n",
    "ahora viene lo dificil, ya que necesitamos procesar el texto de algun modo, para ello usaremos la llamada Tokenización, que le asignara a un valor a cada palabra o conjunto de palabras con similares caracteristicas "
   ]
  },
  {
   "cell_type": "code",
   "execution_count": 34,
   "id": "70b6bf48",
   "metadata": {},
   "outputs": [
    {
     "name": "stdout",
     "output_type": "stream",
     "text": [
      "Además, podría decirse en otro tiempo que no había opciones, no había alternativas, no había trabajo, no había oportunidades para salir adelante. Ahora en Tabasco y en el país todos van a tener garantizado el derecho al trabajo.\n"
     ]
    }
   ],
   "source": [
    "# buscamos un discurso random de ejemplo\n",
    "dialogs_train.sample(10, random_state=132).values\n",
    "example_sentence = dialogs_train.iloc[80567]\n",
    "print(example_sentence)"
   ]
  },
  {
   "cell_type": "code",
   "execution_count": 35,
   "id": "3da096fd",
   "metadata": {},
   "outputs": [
    {
     "name": "stdout",
     "output_type": "stream",
     "text": [
      "Además # , # podría # decirse # en # otro # tiempo # que # no # había # opciones # , # no # había # alternativas # , # no # había # trabajo # , # no # había # oportunidades # para # salir # adelante. # Ahora # en # Tabasco # y # en # el # país # todos # van # a # tener # garantizado # el # derecho # al # trabajo # .\n"
     ]
    }
   ],
   "source": [
    "# usaremos un herramienta de procesamiento natural llamada NLTK (Natural Language ToolKit)\n",
    "from nltk.tokenize.toktok import ToktokTokenizer\n",
    "\n",
    "tk_tokenizer = ToktokTokenizer()\n",
    "tokens = tk_tokenizer.tokenize(example_sentence)\n",
    "print(\" # \".join(tokens))"
   ]
  },
  {
   "cell_type": "code",
   "execution_count": 36,
   "id": "b9df03cf",
   "metadata": {},
   "outputs": [],
   "source": [
    "#vamos a crear una función que nos permita convertir una frase en tokens, a la vez que nos ayude a eliminar las tildes,\n",
    "#los símbolos de puntuación, numeros y las stopwords"
   ]
  },
  {
   "cell_type": "code",
   "execution_count": 64,
   "id": "dfaed066",
   "metadata": {},
   "outputs": [
    {
     "data": {
      "text/plain": [
       "['de',\n",
       " 'la',\n",
       " 'que',\n",
       " 'el',\n",
       " 'en',\n",
       " 'y',\n",
       " 'a',\n",
       " 'los',\n",
       " 'del',\n",
       " 'se',\n",
       " 'las',\n",
       " 'por',\n",
       " 'un',\n",
       " 'para',\n",
       " 'con',\n",
       " 'no',\n",
       " 'una',\n",
       " 'su',\n",
       " 'al',\n",
       " 'lo',\n",
       " 'como',\n",
       " 'más',\n",
       " 'pero',\n",
       " 'sus',\n",
       " 'le',\n",
       " 'ya',\n",
       " 'o',\n",
       " 'este',\n",
       " 'sí',\n",
       " 'porque',\n",
       " 'esta',\n",
       " 'entre',\n",
       " 'cuando',\n",
       " 'muy',\n",
       " 'sin',\n",
       " 'sobre',\n",
       " 'también',\n",
       " 'me',\n",
       " 'hasta',\n",
       " 'hay',\n",
       " 'donde',\n",
       " 'quien',\n",
       " 'desde',\n",
       " 'todo',\n",
       " 'nos',\n",
       " 'durante',\n",
       " 'todos',\n",
       " 'uno',\n",
       " 'les',\n",
       " 'ni',\n",
       " 'contra',\n",
       " 'otros',\n",
       " 'ese',\n",
       " 'eso',\n",
       " 'ante',\n",
       " 'ellos',\n",
       " 'e',\n",
       " 'esto',\n",
       " 'mí',\n",
       " 'antes',\n",
       " 'algunos',\n",
       " 'qué',\n",
       " 'unos',\n",
       " 'yo',\n",
       " 'otro',\n",
       " 'otras',\n",
       " 'otra',\n",
       " 'él',\n",
       " 'tanto',\n",
       " 'esa',\n",
       " 'estos',\n",
       " 'mucho',\n",
       " 'quienes',\n",
       " 'nada',\n",
       " 'muchos',\n",
       " 'cual',\n",
       " 'poco',\n",
       " 'ella',\n",
       " 'estar',\n",
       " 'estas',\n",
       " 'algunas',\n",
       " 'algo',\n",
       " 'nosotros',\n",
       " 'mi',\n",
       " 'mis',\n",
       " 'tú',\n",
       " 'te',\n",
       " 'ti',\n",
       " 'tu',\n",
       " 'tus',\n",
       " 'ellas',\n",
       " 'nosotras',\n",
       " 'vosotros',\n",
       " 'vosotras',\n",
       " 'os',\n",
       " 'mío',\n",
       " 'mía',\n",
       " 'míos',\n",
       " 'mías',\n",
       " 'tuyo',\n",
       " 'tuya',\n",
       " 'tuyos',\n",
       " 'tuyas',\n",
       " 'suyo',\n",
       " 'suya',\n",
       " 'suyos',\n",
       " 'suyas',\n",
       " 'nuestro',\n",
       " 'nuestra',\n",
       " 'nuestros',\n",
       " 'nuestras',\n",
       " 'vuestro',\n",
       " 'vuestra',\n",
       " 'vuestros',\n",
       " 'vuestras',\n",
       " 'esos',\n",
       " 'esas',\n",
       " 'estoy',\n",
       " 'estás',\n",
       " 'está',\n",
       " 'estamos',\n",
       " 'estáis',\n",
       " 'están',\n",
       " 'esté',\n",
       " 'estés',\n",
       " 'estemos',\n",
       " 'estéis',\n",
       " 'estén',\n",
       " 'estaré',\n",
       " 'estarás',\n",
       " 'estará',\n",
       " 'estaremos',\n",
       " 'estaréis',\n",
       " 'estarán',\n",
       " 'estaría',\n",
       " 'estarías',\n",
       " 'estaríamos',\n",
       " 'estaríais',\n",
       " 'estarían',\n",
       " 'estaba',\n",
       " 'estabas',\n",
       " 'estábamos',\n",
       " 'estabais',\n",
       " 'estaban',\n",
       " 'estuve',\n",
       " 'estuviste',\n",
       " 'estuvo',\n",
       " 'estuvimos',\n",
       " 'estuvisteis',\n",
       " 'estuvieron',\n",
       " 'estuviera',\n",
       " 'estuvieras',\n",
       " 'estuviéramos',\n",
       " 'estuvierais',\n",
       " 'estuvieran',\n",
       " 'estuviese',\n",
       " 'estuvieses',\n",
       " 'estuviésemos',\n",
       " 'estuvieseis',\n",
       " 'estuviesen',\n",
       " 'estando',\n",
       " 'estado',\n",
       " 'estada',\n",
       " 'estados',\n",
       " 'estadas',\n",
       " 'estad',\n",
       " 'he',\n",
       " 'has',\n",
       " 'ha',\n",
       " 'hemos',\n",
       " 'habéis',\n",
       " 'han',\n",
       " 'haya',\n",
       " 'hayas',\n",
       " 'hayamos',\n",
       " 'hayáis',\n",
       " 'hayan',\n",
       " 'habré',\n",
       " 'habrás',\n",
       " 'habrá',\n",
       " 'habremos',\n",
       " 'habréis',\n",
       " 'habrán',\n",
       " 'habría',\n",
       " 'habrías',\n",
       " 'habríamos',\n",
       " 'habríais',\n",
       " 'habrían',\n",
       " 'había',\n",
       " 'habías',\n",
       " 'habíamos',\n",
       " 'habíais',\n",
       " 'habían',\n",
       " 'hube',\n",
       " 'hubiste',\n",
       " 'hubo',\n",
       " 'hubimos',\n",
       " 'hubisteis',\n",
       " 'hubieron',\n",
       " 'hubiera',\n",
       " 'hubieras',\n",
       " 'hubiéramos',\n",
       " 'hubierais',\n",
       " 'hubieran',\n",
       " 'hubiese',\n",
       " 'hubieses',\n",
       " 'hubiésemos',\n",
       " 'hubieseis',\n",
       " 'hubiesen',\n",
       " 'habiendo',\n",
       " 'habido',\n",
       " 'habida',\n",
       " 'habidos',\n",
       " 'habidas',\n",
       " 'soy',\n",
       " 'eres',\n",
       " 'es',\n",
       " 'somos',\n",
       " 'sois',\n",
       " 'son',\n",
       " 'sea',\n",
       " 'seas',\n",
       " 'seamos',\n",
       " 'seáis',\n",
       " 'sean',\n",
       " 'seré',\n",
       " 'serás',\n",
       " 'será',\n",
       " 'seremos',\n",
       " 'seréis',\n",
       " 'serán',\n",
       " 'sería',\n",
       " 'serías',\n",
       " 'seríamos',\n",
       " 'seríais',\n",
       " 'serían',\n",
       " 'era',\n",
       " 'eras',\n",
       " 'éramos',\n",
       " 'erais',\n",
       " 'eran',\n",
       " 'fui',\n",
       " 'fuiste',\n",
       " 'fue',\n",
       " 'fuimos',\n",
       " 'fuisteis',\n",
       " 'fueron',\n",
       " 'fuera',\n",
       " 'fueras',\n",
       " 'fuéramos',\n",
       " 'fuerais',\n",
       " 'fueran',\n",
       " 'fuese',\n",
       " 'fueses',\n",
       " 'fuésemos',\n",
       " 'fueseis',\n",
       " 'fuesen',\n",
       " 'sintiendo',\n",
       " 'sentido',\n",
       " 'sentida',\n",
       " 'sentidos',\n",
       " 'sentidas',\n",
       " 'siente',\n",
       " 'sentid',\n",
       " 'tengo',\n",
       " 'tienes',\n",
       " 'tiene',\n",
       " 'tenemos',\n",
       " 'tenéis',\n",
       " 'tienen',\n",
       " 'tenga',\n",
       " 'tengas',\n",
       " 'tengamos',\n",
       " 'tengáis',\n",
       " 'tengan',\n",
       " 'tendré',\n",
       " 'tendrás',\n",
       " 'tendrá',\n",
       " 'tendremos',\n",
       " 'tendréis',\n",
       " 'tendrán',\n",
       " 'tendría',\n",
       " 'tendrías',\n",
       " 'tendríamos',\n",
       " 'tendríais',\n",
       " 'tendrían',\n",
       " 'tenía',\n",
       " 'tenías',\n",
       " 'teníamos',\n",
       " 'teníais',\n",
       " 'tenían',\n",
       " 'tuve',\n",
       " 'tuviste',\n",
       " 'tuvo',\n",
       " 'tuvimos',\n",
       " 'tuvisteis',\n",
       " 'tuvieron',\n",
       " 'tuviera',\n",
       " 'tuvieras',\n",
       " 'tuviéramos',\n",
       " 'tuvierais',\n",
       " 'tuvieran',\n",
       " 'tuviese',\n",
       " 'tuvieses',\n",
       " 'tuviésemos',\n",
       " 'tuvieseis',\n",
       " 'tuviesen',\n",
       " 'teniendo',\n",
       " 'tenido',\n",
       " 'tenida',\n",
       " 'tenidos',\n",
       " 'tenidas',\n",
       " 'tened']"
      ]
     },
     "execution_count": 64,
     "metadata": {},
     "output_type": "execute_result"
    }
   ],
   "source": [
    "sp_stopwords = stopwords.words(\"spanish\")\n",
    "sp_stopwords"
   ]
  },
  {
   "cell_type": "code",
   "execution_count": 40,
   "id": "603e0389",
   "metadata": {},
   "outputs": [
    {
     "name": "stdout",
     "output_type": "stream",
     "text": [
      "['ademas', 'podria', 'decirse', 'tiempo', 'opciones', 'alternativas', 'trabajo', 'oportunidades', 'salir', 'adelante.', 'ahora', 'tabasco', 'pais', 'van', 'tener', 'garantizado', 'derecho', 'trabajo']\n"
     ]
    }
   ],
   "source": [
    "sp_stopwords = stopwords.words(\"spanish\")\n",
    "\n",
    "\n",
    "\n",
    "sp_punctuation = string.punctuation + '¿¡'\n",
    "\n",
    "not_wanted = set((unidecode(word) for word in sp_stopwords)) | set(sp_punctuation)\n",
    "\n",
    "tk_tokenizer = ToktokTokenizer()\n",
    "\n",
    "\n",
    "def tokenize(sentence):\n",
    "    clean = []\n",
    "    clean_sentence = unidecode(sentence)\n",
    "    for token1 in tk_tokenizer.tokenize(clean_sentence):\n",
    "        token = token1.lower() #para dejar todo en miniscula\n",
    "        if token in not_wanted:\n",
    "            continue\n",
    "        clean.append(token)\n",
    "    return clean\n",
    "\n",
    "print(tokenize(example_sentence))"
   ]
  },
  {
   "cell_type": "code",
   "execution_count": 43,
   "id": "509f62fc",
   "metadata": {},
   "outputs": [
    {
     "data": {
      "text/plain": [
       "<31102x1000 sparse matrix of type '<class 'numpy.int64'>'\n",
       "\twith 291423 stored elements in Compressed Sparse Row format>"
      ]
     },
     "execution_count": 43,
     "metadata": {},
     "output_type": "execute_result"
    }
   ],
   "source": [
    "# ahora pasamos a vectorizar nuestro token\n",
    "\n",
    "from sklearn.feature_extraction.text import CountVectorizer\n",
    "\n",
    "vectorizador= CountVectorizer(binary=True, analyzer=tokenize, max_features=1000) # necesitamos que sea binario y no acumulativo las palabras\n",
    "vectorizador.fit(dialogs_train)\n",
    "\n",
    "train_x = vectorizador.transform(dialogs_train)\n",
    "val_x = vectorizador.transform(dialogs_val)\n",
    "test_x = vectorizador.transform(dialogs_test)\n",
    "test_x"
   ]
  },
  {
   "cell_type": "code",
   "execution_count": 44,
   "id": "77a79bab",
   "metadata": {},
   "outputs": [
    {
     "data": {
      "text/plain": [
       "LogisticRegression(class_weight='balanced', max_iter=1000)"
      ]
     },
     "execution_count": 44,
     "metadata": {},
     "output_type": "execute_result"
    }
   ],
   "source": [
    "# A MODELAR CHEMIMARE\n",
    "\n",
    "from sklearn.linear_model import LogisticRegression\n",
    "lr = LogisticRegression(max_iter=1000, class_weight=\"balanced\")\n",
    "lr.fit(train_x, train_y)"
   ]
  },
  {
   "cell_type": "code",
   "execution_count": 45,
   "id": "3d373a52",
   "metadata": {},
   "outputs": [],
   "source": [
    "train_pred = lr.predict(train_x)  # Para diagnosticar overfitting\n",
    "val_pred = lr.predict(val_x)  # Para decidir cambios sobre el modelo"
   ]
  },
  {
   "cell_type": "code",
   "execution_count": 46,
   "id": "bc5c569f",
   "metadata": {},
   "outputs": [
    {
     "name": "stdout",
     "output_type": "stream",
     "text": [
      "Training accuracy:   92.90%\n",
      "Validation accuracy: 92.57%\n"
     ]
    }
   ],
   "source": [
    "#Revisando las métricas \n",
    "from sklearn.metrics import accuracy_score\n",
    "training_accuracy = accuracy_score(train_y, train_pred)\n",
    "validation_accuracy = accuracy_score(val_y, val_pred)\n",
    "\n",
    "print(f\"Training accuracy:   {training_accuracy:0.2%}\")\n",
    "print(f\"Validation accuracy: {validation_accuracy:0.2%}\")"
   ]
  },
  {
   "cell_type": "code",
   "execution_count": 95,
   "id": "0b87937d",
   "metadata": {},
   "outputs": [
    {
     "name": "stdout",
     "output_type": "stream",
     "text": [
      "Test accuracy:   92.95%\n"
     ]
    }
   ],
   "source": [
    "#desempeño en el conjunto de prueba\n",
    "\n",
    "test_pred = lr.predict(test_x)\n",
    "test_accuracy = accuracy_score(test_y, test_pred)\n",
    "\n",
    "print(f\"Test accuracy:   {test_accuracy:0.2%}\")"
   ]
  },
  {
   "cell_type": "code",
   "execution_count": 92,
   "id": "a103494c",
   "metadata": {},
   "outputs": [
    {
     "name": "stdout",
     "output_type": "stream",
     "text": [
      "32.57% – Médico\n",
      "67.43% - Político\n"
     ]
    }
   ],
   "source": [
    "oración = \"soy politico y presindente de mexico\"\n",
    "own_x = vectorizador.transform([oración])\n",
    "result = lr.predict(own_x)\n",
    "medico, politico = lr.predict_proba(own_x).squeeze() * 100\n",
    "print(f\"{medico:05.2f}% – Médico\\n{politico:05.2f}% - Político\")"
   ]
  },
  {
   "cell_type": "code",
   "execution_count": 93,
   "id": "4456ef9c",
   "metadata": {},
   "outputs": [
    {
     "name": "stdout",
     "output_type": "stream",
     "text": [
      "Es político\n"
     ]
    }
   ],
   "source": [
    "result_bin = lr.predict(own_x)\n",
    "if result_bin==[1]:\n",
    "    print('Es político')\n",
    "else: \n",
    "    print('Es medico')    "
   ]
  },
  {
   "cell_type": "code",
   "execution_count": 94,
   "id": "2771acb8",
   "metadata": {},
   "outputs": [
    {
     "data": {
      "text/plain": [
       "array([1])"
      ]
     },
     "execution_count": 94,
     "metadata": {},
     "output_type": "execute_result"
    }
   ],
   "source": []
  },
  {
   "cell_type": "code",
   "execution_count": null,
   "id": "e77c867b",
   "metadata": {},
   "outputs": [],
   "source": []
  }
 ],
 "metadata": {
  "kernelspec": {
   "display_name": "Python 3 (ipykernel)",
   "language": "python",
   "name": "python3"
  },
  "language_info": {
   "codemirror_mode": {
    "name": "ipython",
    "version": 3
   },
   "file_extension": ".py",
   "mimetype": "text/x-python",
   "name": "python",
   "nbconvert_exporter": "python",
   "pygments_lexer": "ipython3",
   "version": "3.9.7"
  }
 },
 "nbformat": 4,
 "nbformat_minor": 5
}
